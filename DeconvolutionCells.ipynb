{
 "cells": [
  {
   "cell_type": "markdown",
   "id": "258712de",
   "metadata": {
    "hideCode": false,
    "hidePrompt": false
   },
   "source": [
    "# Demo: Bayesian Image Deconvolution\n",
    "$$\\arg \\min_{\\mathbf{x}} \\; \\frac{1}{2} \\|\\mathbf{y} - \\mathbf{F} \\mathbf{x}\n",
    "  \\|_2^2 + \\lambda \\| \\nabla \\mathbf{x} \\|_{2,1} +\n",
    "  \\iota_{\\mathrm{+}}(\\mathbf{x}) \\;,$$"
   ]
  },
  {
   "cell_type": "code",
   "execution_count": null,
   "id": "9cfe4d5f",
   "metadata": {
    "ExecuteTime": {
     "end_time": "2023-07-27T12:38:29.558084545Z",
     "start_time": "2023-07-27T12:38:28.873555687Z"
    },
    "hideCode": false,
    "hidePrompt": false,
    "init_cell": true,
    "slideshow": {
     "slide_type": "-"
    }
   },
   "outputs": [],
   "source": [
    "import time as t\n",
    "import warnings\n",
    "from functools import partial\n",
    "\n",
    "import matplotlib.pyplot as plt\n",
    "import napari\n",
    "import numpy as np\n",
    "import scipy as sp\n",
    "import scipy.signal\n",
    "import skimage.io\n",
    "from jupyter_compare_view import compare\n",
    "from pycsou.abc import DiffFunc, DiffMap, LinOp, Map, ProxFunc\n",
    "from pycsou.operator import SquaredL2Norm\n",
    "from pycsou.operator.interop import from_sciop, from_source, from_torch\n",
    "from pycsou.operator.interop.torch import *\n",
    "from pycsou.runtime import Precision, Width, enforce_precision\n",
    "from pycsou.util import get_array_module, to_NUMPY\n",
    "\n",
    "warnings.filterwarnings(\"ignore\")\n",
    "\n",
    "plt.style.use(\"seaborn-darkgrid\")\n",
    "plt.rcParams[\"figure.figsize\"] = [9, 6]\n",
    "plt.rcParams[\"figure.dpi\"] = 150\n",
    "plt.rcParams[\"axes.grid\"] = False\n",
    "plt.rcParams[\"image.cmap\"] = \"viridis\"\n",
    "\n",
    "rng = np.random.default_rng(seed=0)\n",
    "\n",
    "\n",
    "def monochromatic(im, chan=0):\n",
    "    out = im.copy()\n",
    "    xp = get_array_module(im)\n",
    "    mask = xp.ones(im.shape, dtype=bool)\n",
    "    mask[chan] = False\n",
    "    out[mask] = 0\n",
    "    return out\n",
    "\n",
    "\n",
    "def imshow(im, rgb=False):\n",
    "    im = to_NUMPY(im)\n",
    "    if im.ndim > 2 and rgb:\n",
    "        plt.subplot(2, 2, 1)\n",
    "        plt.imshow(np.moveaxis(im, 0, -1))\n",
    "        plt.subplot(2, 2, 2)\n",
    "        plt.imshow(np.moveaxis(monochromatic(im, 0), 0, -1))\n",
    "        plt.subplot(2, 2, 3)\n",
    "        plt.imshow(np.moveaxis(monochromatic(im, 1), 0, -1))\n",
    "        plt.subplot(2, 2, 4)\n",
    "        plt.imshow(np.moveaxis(monochromatic(im, 2), 0, -1))\n",
    "    elif im.ndim > 2 and not rgb:\n",
    "        plt.imshow(np.moveaxis(im, 0, -1))\n",
    "    else:\n",
    "        plt.imshow(im, cmap=\"gray\")\n",
    "    plt.axis(\"off\")\n",
    "\n",
    "\n",
    "def imshow_compare(*images, **kwargs):\n",
    "    images = [to_NUMPY(im) for im in images]\n",
    "    images = [np.clip(im, 0, 1) for im in images]\n",
    "    images = [np.moveaxis(im, 0, -1) if im.ndim > 2 else im for im in images]\n",
    "    return compare(\n",
    "        *images, height=700, add_controls=True, display_format=\"jpg\", **kwargs\n",
    "    )\n",
    "\n",
    "\n",
    "warnings.filterwarnings(\"ignore\")"
   ]
  },
  {
   "cell_type": "code",
   "execution_count": null,
   "id": "ab8a5562",
   "metadata": {
    "hideCode": false,
    "hidePrompt": false
   },
   "outputs": [],
   "source": [
    "from pycsou.operator import DiagonalOp, FFT , Pad, SubSample, Sum\n",
    "from pycsou.util import view_as_complex, view_as_real\n",
    "from numpy.fft import fftshift, fft, ifft\n",
    "from pycsou.operator import block_diag, hstack, vstack\n",
    "import pycsou.util as pycu\n",
    "import pycsou.abc as pyca\n",
    "\n",
    "\n",
    "class Roll(pyca.UnitOp):\n",
    "    def __init__(self, arg_shape, axes=None, shift=None):\n",
    "        self.arg_shape = arg_shape\n",
    "        if axes is None:\n",
    "            self.axes = tuple(range(len(arg_shape)))\n",
    "        if shift is None:\n",
    "            self.shift = [dim // 2 for dim in arg_shape]\n",
    "        \n",
    "        self.shift_adjoint = [-sh for sh in self.shift]\n",
    "        dim = np.prod(arg_shape).item()\n",
    "        super().__init__(shape=(dim, dim))\n",
    "\n",
    "    \n",
    "    def apply(self, arr):\n",
    "        sh = arr.shape[:-1]\n",
    "        arr = arr.reshape(*sh, *self.arg_shape)\n",
    "        xp = pycu.get_array_module(arr)\n",
    "        return xp.roll(arr, self.shift, self.axes).reshape(*sh, -1)\n",
    "    \n",
    "    def adjoint(self, arr):\n",
    "        sh = arr.shape[:-1]\n",
    "        arr = arr.reshape(*sh, *self.arg_shape)\n",
    "        xp = pycu.get_array_module(arr)\n",
    "        return xp.roll(arr, self.shift_adjoint, self.axes).reshape(*sh, -1)\n",
    "\n",
    "    \n",
    "def ComplexMult(arr):\n",
    "    \n",
    "    mask_r = SubSample((arr.size,), slice(0,None, 2))\n",
    "    mask_i = SubSample((arr.size,), slice(1,None, 2))\n",
    "    \n",
    "    arr_r = DiagonalOp(mask_r(arr))\n",
    "    arr_i = DiagonalOp(mask_i(arr))\n",
    "    \n",
    "    # First compute real part\n",
    "    real = mask_r.T * ( arr_r * mask_r - arr_i * mask_i)\n",
    "    # Second compute imaginary part\n",
    "    imag = mask_i.T * ( arr_i * mask_r + arr_r * mask_i)\n",
    "        \n",
    "    return real + imag\n",
    "\n",
    "\n",
    "def PsfFourier(psf):\n",
    "    # PSF and input arrays are assumed to have both the same shape\n",
    "    shape = np.array(psf.shape)\n",
    "    # Both are padded to have 2 N - 1 shape\n",
    "    size = shape * 2  - 1\n",
    "    #fsize = 2 ** np.ceil(np.log2(size)).astype(int)\n",
    "    pad = Pad(arg_shape=psf.shape,pad_width=[( sh, sh )  for sh in (size - shape)//2])\n",
    "    ft = FFT(arg_shape=pad._pad_shape, real=True)\n",
    "    fft_f = ft * pad\n",
    "    psf_fft = fft_f(psf.ravel())\n",
    "    mult = ComplexMult(psf_fft)\n",
    "    \n",
    "    fft_shape = np.array(shape) * 2\n",
    "    roll = Roll(pad._pad_shape)\n",
    "    \n",
    "    startind = (pad._pad_shape - shape) // 2\n",
    "    endind = startind + shape\n",
    "    slices = [slice(startind[k], endind[k]) for k in range(len(endind))]\n",
    "    center = SubSample(pad._pad_shape, *slices)\n",
    "\n",
    "\n",
    "    op = (1 / ft.dim) * center * roll * ft.T * mult * fft_f \n",
    "    \n",
    "    setattr(op, \"center\", center)\n",
    "    setattr(op, \"roll\", roll)\n",
    "    setattr(op, \"ft\", ft)\n",
    "    setattr(op, \"mult\", mult)\n",
    "    setattr(op, \"fft_f\", fft_f)\n",
    "    setattr(op, \"pad\", pad)\n",
    "    \n",
    "    return op"
   ]
  },
  {
   "cell_type": "code",
   "execution_count": null,
   "id": "e90b7f5b",
   "metadata": {
    "hideCode": false,
    "hidePrompt": false
   },
   "outputs": [],
   "source": [
    "gpu=False"
   ]
  },
  {
   "cell_type": "code",
   "execution_count": null,
   "id": "33333424",
   "metadata": {
    "hideCode": false,
    "hidePrompt": false
   },
   "outputs": [],
   "source": [
    "# Load data\n",
    "\n",
    "from utils import downsample_volume, epfl_deconv_data\n",
    "\n",
    "y, psf = [], []\n",
    "for channel in range(3):\n",
    "    y_, psf_ = epfl_deconv_data(channel)\n",
    "    y_ = downsample_volume(y_, 2)\n",
    "    psf_ = downsample_volume(psf_, 2)\n",
    "    \n",
    "    if gpu:\n",
    "        import cupy as xp\n",
    "    else:\n",
    "        xp = np\n",
    "    y_ = xp.asarray(y_)\n",
    "    psf_ = xp.asarray(psf_)\n",
    "\n",
    "    # Same preprocessing as in Scico\n",
    "    y_ -= y_.min()\n",
    "    y_ /= y_.max()\n",
    "    psf_ /= psf_.sum()\n",
    "\n",
    "    y.append(y_)\n",
    "    psf.append(psf_)\n",
    "\n",
    "y = np.stack(y)\n",
    "psf = np.stack(psf)"
   ]
  },
  {
   "cell_type": "code",
   "execution_count": null,
   "id": "b960e00d",
   "metadata": {
    "hideCode": false,
    "hidePrompt": false
   },
   "outputs": [],
   "source": [
    "print(f\"{y.shape=}, {y.dtype=}\")\n",
    "print(f\"{psf.shape=}, {psf.dtype=}\")"
   ]
  },
  {
   "cell_type": "code",
   "execution_count": null,
   "id": "8dd5fa61",
   "metadata": {
    "hideCode": false,
    "hidePrompt": false
   },
   "outputs": [],
   "source": [
    "if gpu:\n",
    "    viewer = napari.view_image(y.get().T, rgb=True)\n",
    "else:\n",
    "    viewer = napari.view_image(y.T, rgb=True)"
   ]
  },
  {
   "cell_type": "markdown",
   "id": "ed9ba82b",
   "metadata": {
    "hideCode": false,
    "hidePrompt": false
   },
   "source": [
    "# Least squares (PINV)"
   ]
  },
  {
   "cell_type": "code",
   "execution_count": null,
   "id": "516602fc",
   "metadata": {
    "hideCode": false,
    "hidePrompt": false
   },
   "outputs": [],
   "source": [
    "from pycsou.opt.stop import MaxIter, RelError\n",
    "from pycsou.operator import Jacobian, PositiveL1Norm, L21Norm"
   ]
  },
  {
   "cell_type": "code",
   "execution_count": null,
   "id": "35e1adb3",
   "metadata": {
    "hideCode": false,
    "hidePrompt": false
   },
   "outputs": [],
   "source": [
    "forwards = [PsfFourier(psf_) for psf_ in psf]"
   ]
  },
  {
   "cell_type": "code",
   "execution_count": null,
   "id": "f19b516f",
   "metadata": {
    "hideCode": false,
    "hidePrompt": false
   },
   "outputs": [],
   "source": [
    "\n",
    "default_stop_crit = (\n",
    "    RelError(eps=1e-3, var=\"x\", f=None, norm=2, satisfy_all=True) & MaxIter(20)\n",
    ") | MaxIter(400)\n",
    "\n",
    "\n",
    "x_pinv_recons = xp.stack([\n",
    "    forward.pinv(\n",
    "        y_channel.ravel(), \n",
    "        damp=1., \n",
    "        kwargs_init=dict(show_progress=True, verbosity=10),\n",
    "        kwargs_fit=dict(stop_crit=default_stop_crit)\n",
    "    ).reshape(y_channel.shape) for y_channel, forward in zip(y, forwards)\n",
    "])\n",
    "x_pinv_recons /= x_pinv_recons.max((1,2,3), keepdims=True)"
   ]
  },
  {
   "cell_type": "code",
   "execution_count": null,
   "id": "8571435b",
   "metadata": {
    "hideCode": false,
    "hidePrompt": false
   },
   "outputs": [],
   "source": [
    "if gpu:\n",
    "    viewer = napari.view_image(x_pinv_recons.get().reshape(y.shape).T, rgb=True)\n",
    "else:\n",
    "    viewer = napari.view_image(x_pinv_recons.reshape(y.shape).T, rgb=True)"
   ]
  },
  {
   "cell_type": "markdown",
   "id": "a7816dc0",
   "metadata": {
    "hideCode": false,
    "hidePrompt": false
   },
   "source": [
    "# MAP"
   ]
  },
  {
   "cell_type": "code",
   "execution_count": null,
   "id": "42043ce7",
   "metadata": {
    "hideCode": false,
    "hidePrompt": false
   },
   "outputs": [],
   "source": [
    "import pycsou.runtime as pycrt\n",
    "from pycsou.opt.solver import PD3O\n",
    "\n",
    "# Stopping criterion\n",
    "default_stop_crit = (\n",
    "    RelError(eps=1e-3, var=\"x\", f=None, norm=2, satisfy_all=True)\n",
    "    & RelError(eps=1e-3, var=\"z\", f=None, norm=2, satisfy_all=True)\n",
    "    & MaxIter(20)\n",
    ") | MaxIter(500)\n",
    "\n",
    "from pycsou.operator import Gradient, Sum\n",
    "\n",
    "grad = Gradient(arg_shape=y.shape[1:], \n",
    "                diff_method=\"fd\", \n",
    "                accuracy=4,\n",
    "                sampling=[0.64, 0.64, 1.6],\n",
    "                gpu=True) \n",
    "\n",
    "grad.lipschitz(tight=False)\n",
    "\n",
    "λ1 = 1e-1\n",
    "λ2 = 1e-4\n",
    "\n",
    "posl1 = PositiveL1Norm(dim=y[0].size)\n",
    "\n",
    "x_recons_tv = []\n",
    "\n",
    "for y_channel, forward in zip(y, forwards):    \n",
    "    sl2 = SquaredL2Norm(dim=y_channel.size).asloss(y_channel.ravel())\n",
    "    sl2.diff_lipschitz()\n",
    "\n",
    "    l21_norm = L21Norm(arg_shape=(3, *y_channel.shape), l2_axis=(0,))\n",
    "    \n",
    "    loss = sl2 * forward\n",
    "    loss.diff_lipschitz()\n",
    "    \n",
    "    solver = PD3O(\n",
    "        f=loss, g=λ1 * posl1, h= λ2 * l21_norm, K=grad, show_progress=True, verbosity=100\n",
    "    )\n",
    "    # Fit\n",
    "    with pycrt.Precision(pycrt.Width.SINGLE):\n",
    "        solver.fit(x0=0 * y_channel.ravel(), tuning_strategy=2, stop_crit=default_stop_crit)\n",
    "        x_recons_tv.append(solver.solution().reshape(y_channel.shape))\n",
    "\n",
    "x_recons_tv = xp.stack(x_recons_tv)"
   ]
  },
  {
   "cell_type": "code",
   "execution_count": null,
   "id": "ed49e47a",
   "metadata": {
    "hideCode": false,
    "hidePrompt": false
   },
   "outputs": [],
   "source": [
    "if gpu:\n",
    "    viewer = napari.view_image(x_recons_tv.get().T, rgb=True)\n",
    "else:\n",
    "    viewer = napari.view_image(x_recons_tv.T, rgb=True)"
   ]
  },
  {
   "cell_type": "code",
   "execution_count": null,
   "id": "972dbbc9",
   "metadata": {
    "hideCode": false,
    "hidePrompt": false,
    "scrolled": true
   },
   "outputs": [],
   "source": [
    "if gpu:\n",
    "    plt.hist(x_recons_tv.reshape(3, -1).T.get(), bins=np.linspace(0,1,20))\n",
    "else:\n",
    "    plt.hist(x_recons_tv.reshape(3, -1).T, bins=np.linspace(0,1,20))"
   ]
  },
  {
   "cell_type": "code",
   "execution_count": null,
   "id": "2395514f",
   "metadata": {
    "hideCode": false,
    "hidePrompt": false
   },
   "outputs": [],
   "source": [
    "imshow(psf[2].sum(-1))"
   ]
  },
  {
   "cell_type": "code",
   "execution_count": null,
   "id": "782bcec0",
   "metadata": {
    "hideCode": false,
    "hidePrompt": false
   },
   "outputs": [],
   "source": [
    "plt.plot(psf[2].sum((0,1)).get())"
   ]
  },
  {
   "cell_type": "code",
   "execution_count": null,
   "id": "1611720b",
   "metadata": {
    "hideCode": false,
    "hidePrompt": false
   },
   "outputs": [],
   "source": [
    "plt.plot(psf[2,..., 26].sum((1)).get())"
   ]
  },
  {
   "cell_type": "code",
   "execution_count": null,
   "id": "51531cdd",
   "metadata": {
    "hideCode": false,
    "hidePrompt": false
   },
   "outputs": [],
   "source": []
  }
 ],
 "metadata": {
  "celltoolbar": "Hide code",
  "hide_code_all_hidden": true,
  "kernelspec": {
   "display_name": "Python 3 (ipykernel)",
   "language": "python",
   "name": "python3"
  },
  "language_info": {
   "codemirror_mode": {
    "name": "ipython",
    "version": 3
   },
   "file_extension": ".py",
   "mimetype": "text/x-python",
   "name": "python",
   "nbconvert_exporter": "python",
   "pygments_lexer": "ipython3",
   "version": "3.11.5"
  },
  "latex_envs": {
   "LaTeX_envs_menu_present": true,
   "autoclose": false,
   "autocomplete": true,
   "bibliofile": "biblio.bib",
   "cite_by": "apalike",
   "current_citInitial": 1,
   "eqLabelWithNumbers": true,
   "eqNumInitial": 1,
   "hotkeys": {
    "equation": "Ctrl-E",
    "itemize": "Ctrl-I"
   },
   "labels_anchors": false,
   "latex_user_defs": false,
   "report_style_numbering": true,
   "user_envs_cfg": false
  },
  "rise": {
   "footer": "Matthieu Simeoni, EPFL Hub for Advanced Image Reconstruction (AIR)",
   "progress": true
  },
  "varInspector": {
   "cols": {
    "lenName": 16,
    "lenType": 16,
    "lenVar": 40
   },
   "kernels_config": {
    "python": {
     "delete_cmd_postfix": "",
     "delete_cmd_prefix": "del ",
     "library": "var_list.py",
     "varRefreshCmd": "print(var_dic_list())"
    },
    "r": {
     "delete_cmd_postfix": ") ",
     "delete_cmd_prefix": "rm(",
     "library": "var_list.r",
     "varRefreshCmd": "cat(var_dic_list()) "
    }
   },
   "types_to_exclude": [
    "module",
    "function",
    "builtin_function_or_method",
    "instance",
    "_Feature"
   ],
   "window_display": false
  }
 },
 "nbformat": 4,
 "nbformat_minor": 5
}
