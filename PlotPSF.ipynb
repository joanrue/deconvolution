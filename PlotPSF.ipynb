{
 "cells": [
  {
   "cell_type": "code",
   "execution_count": null,
   "id": "9cfe4d5f",
   "metadata": {
    "ExecuteTime": {
     "end_time": "2023-07-27T12:57:00.850345699Z",
     "start_time": "2023-07-27T12:57:00.045962379Z"
    },
    "hideCode": false,
    "hidePrompt": false,
    "init_cell": true,
    "slideshow": {
     "slide_type": "-"
    }
   },
   "outputs": [],
   "source": [
    "import numpy as np\n",
    "import matplotlib.pyplot as plt\n",
    "# Load data\n",
    "\n",
    "from utils import downsample_volume, epfl_deconv_data\n",
    "\n",
    "psf = []\n",
    "downsampling_factor = 2\n",
    "\n",
    "dx = np.array([0.0645, 0.0645, 0.16]) # um\n",
    "dx = dx * downsampling_factor\n",
    "\n",
    "gpu = False\n",
    "for channel in range(3):\n",
    "    _, psf_ = epfl_deconv_data(channel)\n",
    "    psf_ = downsample_volume(psf_, downsampling_factor)\n",
    "\n",
    "    if gpu:\n",
    "        import cupy as xp\n",
    "    else:\n",
    "        xp = np\n",
    "\n",
    "    psf_ = xp.asarray(psf_)\n",
    "\n",
    "    # Same preprocessing as in Scico\n",
    "    psf_ /= psf_.sum()\n",
    "    psf.append(psf_)\n",
    "psf = np.stack(psf)"
   ]
  },
  {
   "cell_type": "code",
   "execution_count": null,
   "id": "56203057",
   "metadata": {
    "ExecuteTime": {
     "end_time": "2023-07-27T12:57:01.504882086Z",
     "start_time": "2023-07-27T12:57:00.856240192Z"
    },
    "collapsed": false,
    "jupyter": {
     "outputs_hidden": false
    }
   },
   "outputs": [],
   "source": [
    "fig, axs = plt.subplots(3, 3, figsize=(3, 5))\n",
    "for i in range(3):\n",
    "    for j in range(3):\n",
    "        axs[i, j].imshow(psf[i].sum(j), cmap=\"viridis_r\")\n",
    "\n",
    "fig.tight_layout()"
   ]
  },
  {
   "cell_type": "code",
   "execution_count": null,
   "id": "d1e2134e",
   "metadata": {
    "ExecuteTime": {
     "end_time": "2023-07-27T12:58:19.011419324Z",
     "start_time": "2023-07-27T12:58:18.344148280Z"
    },
    "collapsed": false,
    "jupyter": {
     "outputs_hidden": false
    }
   },
   "outputs": [],
   "source": [
    "fig, axs = plt.subplots(3, 3, figsize=(10, 5))\n",
    "for i in range(3):\n",
    "    psf_ = psf[i].copy()\n",
    "    psf_[psf_ < np.percentile(psf_.ravel(), 99)] = 0.\n",
    "    for j in range(3):\n",
    "        ids = [0, 1, 2]\n",
    "        ids.remove(j)\n",
    "        axs[i, j].plot(psf_.sum(tuple(ids)))\n",
    "\n",
    "fig.tight_layout()"
   ]
  },
  {
   "cell_type": "code",
   "execution_count": null,
   "id": "9fb39325",
   "metadata": {
    "ExecuteTime": {
     "end_time": "2023-07-27T13:04:59.955343819Z",
     "start_time": "2023-07-27T13:04:59.213390234Z"
    },
    "collapsed": false,
    "jupyter": {
     "outputs_hidden": false
    }
   },
   "outputs": [],
   "source": [
    "\n",
    "psf_s = []\n",
    "for i in range(3):\n",
    "    psf_ = psf[i].copy()\n",
    "    psf_[psf_ < np.percentile(psf_.ravel(), 99)] = 0.\n",
    "    trims = np.zeros((3, 2), dtype=int)\n",
    "    for j in range(3):\n",
    "        ids = [0, 1, 2]\n",
    "        ids.remove(j)\n",
    "        psf_sum = psf_.sum(tuple(ids))\n",
    "        trims[j][0] = len(psf_sum) - len(np.trim_zeros(psf_sum, trim='f'))\n",
    "        trims[j][1] = len(psf_sum) - len(np.trim_zeros(psf_sum, trim='b'))\n",
    "\n",
    "    psf_s.append(psf[i][trims[0,0]:-trims[0,1], trims[1,0]:-trims[1,1], trims[2,0]:-trims[2,1]])\n",
    "\n",
    "fig, axs = plt.subplots(3, 3, figsize=(3, 5))\n",
    "for i in range(3):\n",
    "    for j in range(3):\n",
    "        axs[i, j].imshow(psf_s[i].sum(j), cmap=\"viridis_r\")\n",
    "fig.tight_layout()"
   ]
  }
 ],
 "metadata": {
  "celltoolbar": "Hide code",
  "hide_code_all_hidden": true,
  "kernelspec": {
   "display_name": "Python 3 (ipykernel)",
   "language": "python",
   "name": "python3"
  },
  "language_info": {
   "codemirror_mode": {
    "name": "ipython",
    "version": 3
   },
   "file_extension": ".py",
   "mimetype": "text/x-python",
   "name": "python",
   "nbconvert_exporter": "python",
   "pygments_lexer": "ipython3",
   "version": "3.11.5"
  },
  "latex_envs": {
   "LaTeX_envs_menu_present": true,
   "autoclose": false,
   "autocomplete": true,
   "bibliofile": "biblio.bib",
   "cite_by": "apalike",
   "current_citInitial": 1,
   "eqLabelWithNumbers": true,
   "eqNumInitial": 1,
   "hotkeys": {
    "equation": "Ctrl-E",
    "itemize": "Ctrl-I"
   },
   "labels_anchors": false,
   "latex_user_defs": false,
   "report_style_numbering": true,
   "user_envs_cfg": false
  },
  "rise": {
   "footer": "Matthieu Simeoni, EPFL Hub for Advanced Image Reconstruction (AIR)",
   "progress": true
  },
  "varInspector": {
   "cols": {
    "lenName": 16,
    "lenType": 16,
    "lenVar": 40
   },
   "kernels_config": {
    "python": {
     "delete_cmd_postfix": "",
     "delete_cmd_prefix": "del ",
     "library": "var_list.py",
     "varRefreshCmd": "print(var_dic_list())"
    },
    "r": {
     "delete_cmd_postfix": ") ",
     "delete_cmd_prefix": "rm(",
     "library": "var_list.r",
     "varRefreshCmd": "cat(var_dic_list()) "
    }
   },
   "types_to_exclude": [
    "module",
    "function",
    "builtin_function_or_method",
    "instance",
    "_Feature"
   ],
   "window_display": false
  }
 },
 "nbformat": 4,
 "nbformat_minor": 5
}
